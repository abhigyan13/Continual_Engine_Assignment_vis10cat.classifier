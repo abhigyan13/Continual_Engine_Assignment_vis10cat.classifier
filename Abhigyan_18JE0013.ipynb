{
  "nbformat": 4,
  "nbformat_minor": 0,
  "metadata": {
    "colab": {
      "name": "Abhigyan_18JE0013.ipynb",
      "provenance": [],
      "collapsed_sections": [],
      "include_colab_link": true
    },
    "kernelspec": {
      "name": "python3",
      "display_name": "Python 3"
    },
    "language_info": {
      "name": "python"
    }
  },
  "cells": [
    {
      "cell_type": "markdown",
      "metadata": {
        "id": "view-in-github",
        "colab_type": "text"
      },
      "source": [
        "<a href=\"https://colab.research.google.com/github/abhigyan13/Continual_Engine_Assignment/blob/main/Abhigyan_18JE0013.ipynb\" target=\"_parent\"><img src=\"https://colab.research.google.com/assets/colab-badge.svg\" alt=\"Open In Colab\"/></a>"
      ]
    },
    {
      "cell_type": "markdown",
      "metadata": {
        "id": "0oRA4Ev7bVS5"
      },
      "source": [
        "Import Libraries"
      ]
    },
    {
      "cell_type": "code",
      "metadata": {
        "id": "3ltwhZo9iZ27"
      },
      "source": [
        "import torch\n",
        "import torch.nn as nn\n",
        "import torch.optim as optim\n",
        "import numpy as np\n",
        "import math\n",
        "\n",
        "import torch.nn.functional as F\n",
        "import torch.backends.cudnn as cudnn\n",
        "import torchvision\n",
        "import torchvision.transforms as transforms\n",
        "import torch.optim as optim\n",
        "import torch.utils.data as data\n",
        "from torch.utils.data import DataLoader\n",
        "from torch.utils.data import sampler\n",
        "from torch.autograd import Variable\n",
        "\n",
        "import os\n",
        "import argparse\n",
        "\n",
        "import os\n",
        "import time\n",
        "from google.colab.patches import cv2_imshow\n",
        "import pickle\n",
        "import cv2\n",
        "import numpy as np\n",
        "import glob\n",
        "import urllib\n",
        "from urllib.request import URLopener\n",
        "from skimage.transform import rotate\n",
        "\n",
        "\n",
        "from PIL import Image\n",
        "import shutil\n",
        "\n",
        "dtype = torch.cuda.FloatTensor\n",
        "device = torch.device('cuda' if torch.cuda.is_available() else 'cpu')\n",
        "if torch.cuda.is_available()==False:\n",
        "  dtype=torch.FloatTensor\n",
        "from matplotlib import pyplot as plt"
      ],
      "execution_count": 1,
      "outputs": []
    },
    {
      "cell_type": "markdown",
      "metadata": {
        "id": "C0mJCFhhbe1g"
      },
      "source": [
        "Extract category and URLs from VIS10CAT file"
      ]
    },
    {
      "cell_type": "code",
      "metadata": {
        "id": "GS13yCLmk1Vk"
      },
      "source": [
        "file_location='vis10cat.txt'   #specify Location of dataset\n",
        "dataset=open(file_location,'r')\n",
        "lines=dataset.readlines()\n",
        "cat = [] \n",
        "link = []\n",
        "\n",
        "for line in lines:\n",
        "  x=line.split(\"\\t\")\n",
        "  cat.append(x[0])\n",
        "  link.append(x[1])\n",
        "\n"
      ],
      "execution_count": 3,
      "outputs": []
    },
    {
      "cell_type": "markdown",
      "metadata": {
        "id": "MNg3FIOJbtSR"
      },
      "source": [
        "a) Data Cleaning\n",
        "\n",
        "Missing and invalid url's are not not saved"
      ]
    },
    {
      "cell_type": "code",
      "metadata": {
        "id": "DqtJ1PZqlhDv"
      },
      "source": [
        "for i , l in enumerate(link):\n",
        "\n",
        "  try:\n",
        "    urllib.request.urlretrieve( l, \"/content/drive/MyDrive/project_Abhigyan/image/img-{id}-{category}\".format(id = i , category = cat[i] ) )\n",
        "\n",
        "  except OSError as e:\n",
        "    print(str(e) , 'at index ' , i , ' link = ' , link[i] )\n",
        "    continue\n",
        "\n"
      ],
      "execution_count": null,
      "outputs": []
    },
    {
      "cell_type": "code",
      "metadata": {
        "id": "astsuz8ge9t6"
      },
      "source": [
        "class MyOpener(URLopener):\n",
        "   version = 'Mozilla/5.0 (Windows; U; Windows NT 5.1; it; rv:1.8.1.11) Gecko/20071127 Firefox/2.0.0.11'\n",
        "   \n",
        "myopener = MyOpener()\n",
        "print(len(link))\n",
        "for i in range(len(link)):\n",
        "  \n",
        "  ind = link[i].rfind('.')\n",
        "  linkt = link[i][:ind+1] + link[i][ind+1:ind+4]\n",
        "  if linkt[-3:].lower() == \"pdf\":\n",
        "    continue\n",
        "  print(linkt)\n",
        "  try:\n",
        "    myopener.retrieve( linkt, \"/content/drive/MyDrive/project_Abhigyan/image/img-{}\".format(i) )\n",
        "\n",
        "  except OSError as e:\n",
        "    print(str(e),' -  at index  ' , i , ' link = ' , linkt )\n"
      ],
      "execution_count": null,
      "outputs": []
    },
    {
      "cell_type": "code",
      "metadata": {
        "id": "GK6waDzldyHg"
      },
      "source": [
        "########### Removing Unopened Error images\n",
        "\n",
        "impath = glob.glob(\"/content/drive/MyDrive/project_Abhigyan/image/*\")\n",
        "print(len(impath))\n",
        "\n",
        "for path in impath:\n",
        "  x = int( path.split(\"-\")[-1] )\n",
        "  try:\n",
        "    img = Image.open(path)\n",
        "  except:\n",
        "    print(\"Removing index \" , x)\n",
        "    os.remove(path)\n",
        "  \n",
        "print('Final Count = ' , len(impath))"
      ],
      "execution_count": null,
      "outputs": []
    },
    {
      "cell_type": "markdown",
      "metadata": {
        "id": "H_PoUOV28UHY"
      },
      "source": [
        "TRAINING SET STATISTICS"
      ]
    },
    {
      "cell_type": "code",
      "metadata": {
        "colab": {
          "base_uri": "https://localhost:8080/"
        },
        "id": "Si3Gii7T1wag",
        "outputId": "d6ee7407-f086-4238-c5bf-3a20b4d4f3e5"
      },
      "source": [
        "impath = glob.glob(\"/content/drive/MyDrive/project_Abhigyan/image/*\")\n",
        "count = {}\n",
        "cate = []\n",
        "\n",
        "for category in set(cat):\n",
        "  count[category] = 0\n",
        "  cate.append(category)\n",
        "\n",
        "for path in impath:\n",
        "  x =  path.split(\"-\")[-1].split(\".\")[0]\n",
        "  \n",
        "  count[x] = count[x] + 1\n",
        "\n",
        "\n",
        "for key in count.keys():\n",
        "  print(\"count of \" , key , \" = \" , count[key])\n",
        "\n",
        "cate.sort()\n",
        "label_to_id = {}\n",
        "for i , categ in enumerate(cate):\n",
        "  label_to_id[categ] = i\n",
        "\n",
        "print('No. of training data' , len(impath))"
      ],
      "execution_count": 107,
      "outputs": [
        {
          "output_type": "stream",
          "text": [
            "count of  BarGraph  =  111\n",
            "count of  Map  =  178\n",
            "count of  AreaGraph  =  83\n",
            "count of  RadarPlot  =  76\n",
            "count of  PieChart  =  91\n",
            "count of  VennDiagram  =  62\n",
            "count of  LineGraph  =  96\n",
            "count of  ParetoChart  =  91\n",
            "count of  Table  =  113\n",
            "count of  ScatterGraph  =  99\n",
            "No. of training data 1000\n"
          ],
          "name": "stdout"
        }
      ]
    },
    {
      "cell_type": "markdown",
      "metadata": {
        "id": "pAg-2ytN83Lc"
      },
      "source": [
        "Segregate some images for test"
      ]
    },
    {
      "cell_type": "code",
      "metadata": {
        "id": "PeL74xxacfM9"
      },
      "source": [
        "random.shuffle(impath)\n",
        "for i , path in enumerate(impath):\n",
        "  if i>=150:\n",
        "    break\n",
        "  nme = path.split(\"/\")[-1]\n",
        "  indd = path.rfind(\"/\")\n",
        "  new_path = path[:indd]+\"2/\" +nme\n",
        "  shutil.move(path,new_path) \n"
      ],
      "execution_count": 83,
      "outputs": []
    },
    {
      "cell_type": "markdown",
      "metadata": {
        "id": "eaNoxc8QG4-L"
      },
      "source": [
        " AUGMENTATION\n",
        "\n",
        " As the dataset is tiny , augument with flips rotations randomly"
      ]
    },
    {
      "cell_type": "code",
      "metadata": {
        "id": "SVHMnuuM8Oz0"
      },
      "source": [
        "from skimage import io\n",
        "from skimage import img_as_ubyte\n",
        "import random\n",
        "\n",
        "######## horizontal flip\n",
        "def hflip(image):\n",
        "  return np.fliplr(image)\n",
        "\n",
        "######## right rotation\n",
        "\n",
        "def right_rot(image):\n",
        "  return rotate(image ,  -90 )\n",
        "\n",
        "######## left rotation\n",
        "\n",
        "def left_rot(image):\n",
        "  return rotate(image , 90)\n",
        "\n",
        "transformations = { \"horizontal-flip\": hflip , \"right-90-rotation\": right_rot , \"left-90-rotation\": left_rot }  #dictionary to store the transormations\n",
        "\n",
        "\n",
        "\n",
        "\n",
        "\n",
        "\n",
        "impath = glob.glob(\"/content/drive/MyDrive/project_Abhigyan/image/*\")\n",
        "\n",
        "y = len(impath)\n",
        "total = len(impath)\n",
        "\n",
        "image_gen = 5  #set to how many more images needed\n",
        "\n",
        "\n",
        "while y< total+image_gen:\n",
        "  index = random.randint(1,total) - 1  #randomly generate an image to augment\n",
        "  img_path = impath[index]\n",
        "  category = img_path.split(\"-\")[-1].split(\".\")[0]\n",
        "  \n",
        "  \n",
        "  img = io.imread(img_path)\n",
        "  key = random.choice(list(transformations))\n",
        "  transformed_image = transformations[key](img) #randomly choose a tranformation from the above transformations\n",
        "\n",
        "  new_img_path = \"/content/drive/MyDrive/project_Abhigyan/image/img-{id}-{categ}.jpg\".format(id = y , categ = category  )\n",
        "  print(\"Saving Augumented image of \" ,category ,   \" at \" , new_img_path)\n",
        "\n",
        "  transformed_image = img_as_ubyte(transformed_image)  #Convert an image to unsigned byte format, with values in [0, 255].\n",
        "  transformed_image=cv2.cvtColor(transformed_image, cv2.COLOR_BGR2RGB) #convert image to RGB before saving it\n",
        "  \n",
        "  cv2.imwrite(new_img_path, transformed_image) #save augmented image\n",
        "  y = y+1\n"
      ],
      "execution_count": 85,
      "outputs": []
    },
    {
      "cell_type": "markdown",
      "metadata": {
        "id": "kip9AAIscfK-"
      },
      "source": [
        "Set Config for training"
      ]
    },
    {
      "cell_type": "code",
      "metadata": {
        "id": "wci9e8m5FXDz"
      },
      "source": [
        "class set_config:\n",
        "\n",
        "  def __init__(self):\n",
        "    self.cuda=torch.cuda.is_available()\n",
        "    self.lr=0.0009 \n",
        "    self.test_path = '/content/drive/MyDrive/project_Abhigyan/image2/'\n",
        "    self.batch_size = 8\n",
        "    self.mode='train'\n",
        "    self.resume= True\n",
        "    self.path='/content/drive/MyDrive/project_Abhigyan/'\n",
        "    self.epoch_ul = 15\n",
        "    self.wpath= self.path+ 'weights/'\n",
        "    self.hpath = self.path+'weights/history/'\n",
        "    self.loss_path = '/content/drive/MyDrive/project_Abhigyan/weights/history'\n",
        "    self.save_test = True\n",
        "    self.label_to_id = { \"AreaGraph\" :  0 ,\"BarGraph\" :  1 ,\"LineGraph\" :  2 , \"Map\" :  3 , \"ParetoChart\" :  4 ,\"PieChart\" :  5 ,\"RadarPlot\" :  6 ,\"ScatterGraph\" :  7 , \"Table\" :  8 , \"VennDiagram\" :  9}\n",
        "    self.id_to_label = {    0:\"AreaGraph\"  , 1 : \"BarGraph\" , 2 : \"LineGraph\" , 3 :  \"Map\" , 4 :  \"ParetoChart\" , 5 :  \"PieChart\" , 6 : \"RadarPlot\" ,7 : \"ScatterGraph\" , 8: \"Table\"  , 9 : \"VennDiagram\"}\n",
        "    self.img_size = 256\n",
        "    self.test_categ = None\n",
        "cfg=set_config() "
      ],
      "execution_count": 4,
      "outputs": []
    },
    {
      "cell_type": "code",
      "metadata": {
        "id": "Gg9uZcxUiVkR"
      },
      "source": [
        "\n",
        "class My_Classifier(nn.Module):\n",
        "\n",
        "  def __init__(self ,  mode = \"train\" ,  num_classes = 10  , input_channels = 3):\n",
        "    super().__init__()\n",
        "    self.mode = mode\n",
        "    self.conv1=nn.Conv2d(input_channels,32,3,stride=2,padding=1 ) ## 128*128*32\n",
        "    self.relu1=nn.ReLU()\n",
        "\n",
        "    self.conv2=nn.Conv2d(32,32,3,stride=2,padding=1 )  ## 64*64*32\n",
        "    self.bn2=nn.BatchNorm2d(32,momentum=0.5)\n",
        "    self.relu2=nn.ReLU()\n",
        "    \n",
        "    self.conv3=nn.Conv2d(32,64,3,stride=2,padding=1 )  ## 32*32*64\n",
        "    self.bn3=nn.BatchNorm2d(64,momentum=0.5)\n",
        "    self.relu3=nn.ReLU()\n",
        "    \n",
        "    self.conv4=nn.Conv2d(64,128,3,stride=2,padding=1 )  ## 16*16*128\n",
        "    self.bn4=nn.BatchNorm2d(128,momentum=0.5)\n",
        "    self.relu4=nn.ReLU()\n",
        "    \n",
        "    self.conv5=nn.Conv2d(128,256,3,stride=2,padding=1 )  ## 8*8*256\n",
        "    self.bn5=nn.BatchNorm2d(256,momentum=0.5)\n",
        "    self.relu5=nn.ReLU()\n",
        "\n",
        "    self.conv6=nn.Conv2d(256,256,3,stride=2,padding=1 )  ## 4*4*256\n",
        "    self.bn6=nn.BatchNorm2d( 256 ,momentum=0.5)\n",
        "    self.relu6=nn.ReLU()\n",
        "\n",
        "    self.conv7=nn.Conv2d(256,512,3,stride=2,padding=1 )  ## 2*2*512\n",
        "    self.bn7=nn.BatchNorm2d(512,momentum=0.5)\n",
        "    self.relu7=nn.ReLU()\n",
        "\n",
        "    self.linear = nn.Linear(2*2*512 , num_classes )\n",
        "\n",
        "\n",
        "  def init_weights(self):\n",
        "    for name, module in self.named_modules():\n",
        "      if isinstance(module, nn.Conv2d ) or isinstance(module , nn.Linear ):\n",
        "        nn.init.xavier_uniform_(module.weight.data)\n",
        "\n",
        "        if module.bias is not None:\n",
        "          module.bias.data.zero_()\n",
        "\n",
        "\n",
        "  \n",
        "  def forward(self , x ):\n",
        " \n",
        "    out = self.conv1(x)\n",
        "    out = self.relu1(out)\n",
        "    \n",
        "    out = self.conv2(out)\n",
        "    out = self.bn2(out)\n",
        "    out = self.relu2(out)\n",
        "                    \n",
        "    out = self.conv3(out)\n",
        "    out = self.bn3(out)\n",
        "    out = self.relu3(out)\n",
        "    \n",
        "    out = self.conv4(out)\n",
        "    out = self.bn4(out)\n",
        "    out = self.relu4(out)\n",
        "    \n",
        "    out = self.conv5(out)\n",
        "    out = self.bn5(out)\n",
        "    out = self.relu5(out)\n",
        "                    \n",
        "    out = self.conv6(out)\n",
        "    out = self.bn6(out)\n",
        "    out = self.relu6(out)\n",
        "                    \n",
        "    out = self.conv7(out)\n",
        "    out = self.bn7(out)\n",
        "    out = self.relu7(out)\n",
        "\n",
        "\n",
        "    out = out.view(out.size(0), -1)\n",
        "    out = self.linear(out)\n",
        "    \n",
        "    return out\n",
        "\n",
        "\n"
      ],
      "execution_count": 5,
      "outputs": []
    },
    {
      "cell_type": "markdown",
      "metadata": {
        "id": "m7qmNUaic2IQ"
      },
      "source": [
        "Setting up Pytorch Data loader"
      ]
    },
    {
      "cell_type": "code",
      "metadata": {
        "id": "dloFAsEqzL4_"
      },
      "source": [
        "class vis_cat_dataloader(data.Dataset):\n",
        "\n",
        "  def __init__(self , config   , path = \"/content/drive/MyDrive/project_Abhigyan/image/\"   ):\n",
        "    \n",
        "    self.mode = config.mode\n",
        "    self.size = config.img_size\n",
        "    self.cfg = config\n",
        "\n",
        "\n",
        "    if self.mode == \"train\":\n",
        "      self.image_path = glob.glob( path+'*')\n",
        "    if self.mode == \"test\":\n",
        "      self.test_path = glob.glob( self.cfg.test_path+'*')\n",
        "    if self.mode ==\"detect\":\n",
        "      self.t_path = path\n",
        "  \n",
        "  def __getitem__(self , index ):\n",
        "\n",
        "    if self.mode == 'test':\n",
        "      image = cv2.imread(self.test_path[index])\n",
        "      categ = self.test_path[index].split(\"-\")[-1].split(\".\")[0]\n",
        "      y = self.cfg.label_to_id[categ]\n",
        "\n",
        "    elif self.mode == 'train':\n",
        "\n",
        "      image = cv2.imread(self.image_path[index])\n",
        "      categ = self.image_path[index].split(\"-\")[-1].split(\".\")[0]\n",
        "      y = self.cfg.label_to_id[categ]  \n",
        "    \n",
        "    else:\n",
        "      image = cv2.imread(self.t_path)\n",
        "      y = -1\n",
        "\n",
        "    image = cv2.resize(image , (self.size , self.size)) #Resize to Conv Imput Size\n",
        "    image= image.astype( np.float64 )\n",
        "    image/=255  #Normalize\n",
        "    image = torch.tensor( image.transpose(2,0,1) )  #Convert to tensor\n",
        "    \n",
        "\n",
        "    return image , y  \n",
        "  \n",
        "  def __len__(self):\n",
        "    if self.mode == \"test\":\n",
        "      return len(self.test_path)\n",
        "    elif self.mode == \"train\":\n",
        "      return len(self.image_path)\n",
        "    else:\n",
        "      return 1 "
      ],
      "execution_count": 7,
      "outputs": []
    },
    {
      "cell_type": "code",
      "metadata": {
        "id": "V4jGUtnuHb_D"
      },
      "source": [
        "def train_collate(batch):\n",
        "\n",
        "  img_list,y =[],[]\n",
        "  for i,sample in enumerate(batch):\n",
        "    img_list.append(torch.tensor(sample[0]) )\n",
        "    y.append(torch.tensor(sample[1] ) )\n",
        "\n",
        "  imgs=torch.stack(img_list)\n",
        "  labels= torch.stack(y)\n",
        "\n",
        "  return imgs , labels\n",
        "\n",
        "def test_collate(batch):\n",
        "\n",
        "  img_list,y =[],[]\n",
        "  for i,sample in enumerate(batch):\n",
        "    img_list.append(torch.tensor(sample[0]) )\n",
        "    y.append(torch.tensor(sample[1] ) )\n",
        "\n",
        "  imgs=torch.stack(img_list)\n",
        "  labels= torch.stack(y)\n",
        "\n",
        "  return imgs , labels"
      ],
      "execution_count": 8,
      "outputs": []
    },
    {
      "cell_type": "markdown",
      "metadata": {
        "id": "CeYP-NRXc-2z"
      },
      "source": [
        "Utils to save weights and model"
      ]
    },
    {
      "cell_type": "code",
      "metadata": {
        "id": "_rcyz2zcMzda"
      },
      "source": [
        "def save_latest(net,opt  , step , path =  \"/content/drive/MyDrive/project_Abhigyan/weights/\"):\n",
        "  weight = glob.glob(path+\"lat*\" )\n",
        "  assert len(weight) <= 1, 'Error, multiple latest weight found.'\n",
        "  if weight:\n",
        "    os.remove(weight[0])\n",
        "  \n",
        "  optt = glob.glob(path+\"opt*\" )\n",
        "  assert len(optt) <= 1, 'Error, multiple latest optimizer found.'\n",
        "  if optt:\n",
        "    os.remove(optt[0])\n",
        "\n",
        "  print(f'\\nSaving the latest model  as \\'latest_{step}.pth\\'.\\n')\n",
        "  torch.save(net.state_dict(), f'{path}latest_model_{step}.pth')\n",
        "  torch.save(opt.state_dict(), f'{path}optimizer_model_{step}.pth')  \n",
        "\n",
        "\n",
        "def save_loss_acc(lossv , accur ,  path = '/content/drive/MyDrive/project_Abhigyan/weights/history/'):\n",
        "\n",
        "  loss_hist=glob.glob(path+'loss*')\n",
        "  acc_hist= glob.glob(path+'acc*')\n",
        "  assert len(loss_hist)<=1, \"Multiple files of Loss History\"\n",
        "  assert len(acc_hist)<=1, \"Multiple files of Accuracy History\"\n",
        "  if loss_hist:\n",
        "    os.remove(loss_hist[0])\n",
        "  if acc_hist:\n",
        "    os.remove(acc_hist[0])\n",
        "  \n",
        "  open_file = open(path+\"loss.pkl\", \"wb\")\n",
        "  pickle.dump(lossv , open_file)\n",
        "  open_file.close()\n",
        "\n",
        "  open_file = open(path+\"accuracy.pkl\", \"wb\")\n",
        "  pickle.dump(accur , open_file)\n",
        "  open_file.close()"
      ],
      "execution_count": 9,
      "outputs": []
    },
    {
      "cell_type": "markdown",
      "metadata": {
        "id": "Ba83FaUedFwk"
      },
      "source": [
        "TRAIN"
      ]
    },
    {
      "cell_type": "code",
      "metadata": {
        "id": "BSose7486O14",
        "colab": {
          "base_uri": "https://localhost:8080/",
          "height": 1000
        },
        "outputId": "b856b452-6ead-4ba1-da26-721351537bb6"
      },
      "source": [
        "import torch.backends.cudnn as cudnn\n",
        "device = torch.device('cuda' if torch.cuda.is_available() else 'cpu')\n",
        "cfg = set_config()\n",
        "\n",
        "torch.autograd.set_detect_anomaly(True)\n",
        "net = My_Classifier().to(device)\n",
        "net.train()\n",
        "losses = []\n",
        "accuracies = []\n",
        "\n",
        "optimizer =optim.SGD(net.parameters(),lr=cfg.lr,momentum=0.9)\n",
        "\n",
        "###### Load weights if resuming training else initialize \n",
        "\n",
        "if cfg.resume:\n",
        "  wtemp = glob.glob(\"/content/drive/MyDrive/project_Abhigyan/weights/latest*\")\n",
        "  opttemp = glob.glob(\"/content/drive/MyDrive/project_Abhigyan/weights/opt*\")\n",
        "  if torch.cuda.is_available():\n",
        "      net_state_dict = torch.load(wtemp[0])\n",
        "      optim_state_dict = torch.load(opttemp[0])\n",
        "  else:\n",
        "      net_state_dict = torch.load(path, map_location='cpu')\n",
        "      optim_state_dict = torch.load(path, map_location = 'cpu')\n",
        "  net.load_state_dict(net_state_dict)\n",
        "  optimizer.load_state_dict(optim_state_dict)\n",
        "  start_step = int(wtemp[0].split('.pth')[0].split('_')[-1])+1\n",
        "  open_file=open(cfg.loss_path +'loss.pkl','rb')\n",
        "  losses=pickle.load(open_file)\n",
        "  open_file.close()\n",
        "\n",
        "  open_file=open(cfg.loss_path +'accuracy.pkl','rb')\n",
        "  accuracies=pickle.load(open_file)\n",
        "  open_file.close()\n",
        "\n",
        "  print(f'\\nResume training with \\'{start_step}\\'.\\n')\n",
        "\n",
        "else:\n",
        "  \n",
        "  net.init_weights()\n",
        "  print(f'\\nTraining from begining, weights initialized \\n')\n",
        "  start_step = 0 \n",
        "  #cfg.resume = True\n",
        "\n",
        "dataset = vis_cat_dataloader( cfg )\n",
        "data_loader= DataLoader(dataset,cfg.batch_size,shuffle=True,collate_fn=train_collate)\n",
        "\n",
        "training = True\n",
        "time_last = time.time()\n",
        "step = start_step\n",
        "L = nn.CrossEntropyLoss()\n",
        "\n",
        "while training:\n",
        "  correct = 0\n",
        "  tot = 0\n",
        "  avg_loss = 0\n",
        "  for i,(images,targets) in enumerate(data_loader):\n",
        "          \n",
        "    if torch.cuda.is_available():\n",
        "      images = images.to(device = device , dtype = torch.float ).cuda().detach()\n",
        "      targets = targets.to(device = device , dtype = torch.long  ).cuda().detach()\n",
        "\n",
        "    \n",
        "  ######## Obtain Prediction by passing from model\n",
        "    pred = net(images)\n",
        "\n",
        "  ######## Compute cross entrop loss\n",
        "    loss =  L( pred , targets )\n",
        "\n",
        "  ######## A step of gradient upadate\n",
        "    optimizer.zero_grad()\n",
        "    loss.backward()\n",
        "    optimizer.step()\n",
        "    time_this = time.time()\n",
        "    batch_time = time_this-time_last\n",
        "    \n",
        "    avg_loss+= loss.item()\n",
        "\n",
        " ########  Counting no. of correct classifications\n",
        "    _, predicted = pred.max(1)\n",
        "    tot += targets.size(0)\n",
        "    correct += predicted.eq(targets).sum().item()\n",
        "\n",
        "    if i%8==0:\n",
        "      print(\"Time for batch \" , i , \"/\", len(data_loader) , \"= \" , batch_time , \", Loss  = \" , loss.item() )\n",
        "    time_last = time.time()\n",
        "  \n",
        "  avg_loss/=len(data_loader)\n",
        "  accuracy =  100.*correct/tot\n",
        "  accuracies.append(accuracy)\n",
        "  losses.append(avg_loss)\n",
        "\n",
        "  print(\"Epoch no \",step ,\"  completed , Avg Loss = \" , avg_loss ,  \" Accuracy = \" , accuracy  , \" TEST Accuracy \" , accuracy_test )\n",
        " \n",
        "####### Save weights after epoch and loss history\n",
        "  \n",
        "  save_latest(net, optimizer ,  step = step)\n",
        "  save_loss_acc(losses , accuracies)\n",
        "\n",
        "  print('Showing loss plot')\n",
        "  plt.plot(np.array(losses), 'r')\n",
        "  plt.show()\n",
        "\n",
        "  print('Showing accuracy plot')\n",
        "  plt.plot(np.array(accuracies), 'r')\n",
        "  plt.show()\n",
        "\n",
        "  step+=1\n",
        "  if step > cfg.epoch_ul:\n",
        "    break\n"
      ],
      "execution_count": 148,
      "outputs": [
        {
          "output_type": "stream",
          "text": [
            "\n",
            "Training from begining, weights initialized \n",
            "\n",
            "Time for batch  0 / 125 =  0.1065225601196289 , Loss  =  2.239680051803589\n"
          ],
          "name": "stdout"
        },
        {
          "output_type": "stream",
          "text": [
            "/usr/local/lib/python3.7/dist-packages/ipykernel_launcher.py:5: UserWarning: To copy construct from a tensor, it is recommended to use sourceTensor.clone().detach() or sourceTensor.clone().detach().requires_grad_(True), rather than torch.tensor(sourceTensor).\n",
            "  \"\"\"\n"
          ],
          "name": "stderr"
        },
        {
          "output_type": "stream",
          "text": [
            "Time for batch  8 / 125 =  0.10753321647644043 , Loss  =  2.51819109916687\n",
            "Time for batch  16 / 125 =  0.26053309440612793 , Loss  =  2.176072597503662\n",
            "Time for batch  24 / 125 =  0.0950922966003418 , Loss  =  2.1535162925720215\n",
            "Time for batch  32 / 125 =  0.12307262420654297 , Loss  =  2.375023603439331\n",
            "Time for batch  40 / 125 =  0.09647703170776367 , Loss  =  2.1054162979125977\n",
            "Time for batch  48 / 125 =  0.15125823020935059 , Loss  =  2.0495355129241943\n",
            "Time for batch  56 / 125 =  0.11228251457214355 , Loss  =  1.488755226135254\n",
            "Time for batch  64 / 125 =  0.09622931480407715 , Loss  =  2.351335287094116\n",
            "Time for batch  72 / 125 =  0.1577153205871582 , Loss  =  2.36150860786438\n",
            "Time for batch  80 / 125 =  0.15581989288330078 , Loss  =  1.384985089302063\n",
            "Time for batch  88 / 125 =  0.10795164108276367 , Loss  =  1.7485923767089844\n",
            "Time for batch  96 / 125 =  0.10481715202331543 , Loss  =  2.7581658363342285\n",
            "Time for batch  104 / 125 =  0.09752130508422852 , Loss  =  1.774910569190979\n",
            "Time for batch  112 / 125 =  0.1024789810180664 , Loss  =  2.1318094730377197\n",
            "Time for batch  120 / 125 =  0.1092681884765625 , Loss  =  1.8042778968811035\n"
          ],
          "name": "stdout"
        },
        {
          "output_type": "stream",
          "text": [
            "/usr/local/lib/python3.7/dist-packages/ipykernel_launcher.py:17: UserWarning: To copy construct from a tensor, it is recommended to use sourceTensor.clone().detach() or sourceTensor.clone().detach().requires_grad_(True), rather than torch.tensor(sourceTensor).\n"
          ],
          "name": "stderr"
        },
        {
          "output_type": "stream",
          "text": [
            "Epoch no  0   completed , Avg Loss =  2.315279866218567  Accuracy =  27.4  TEST Accuracy  31.333333333333332\n",
            "Saving at weights now at step =  0\n",
            "\n",
            "Saving the latest model  as 'latest_0.pth'.\n",
            "\n",
            "Showing loss plot\n"
          ],
          "name": "stdout"
        },
        {
          "output_type": "display_data",
          "data": {
            "image/png": "[encoded data removed]",
            "text/plain": [
              "<Figure size 432x288 with 1 Axes>"
            ]
          },
          "metadata": {
            "tags": [],
            "needs_background": "light"
          }
        },
        {
          "output_type": "stream",
          "text": [
            "Showing accuracy plot\n"
          ],
          "name": "stdout"
        },
        {
          "output_type": "display_data",
          "data": {
            "image/png": "[encoded data removed]",
            "text/plain": [
              "<Figure size 432x288 with 1 Axes>"
            ]
          },
          "metadata": {
            "tags": [],
            "needs_background": "light"
          }
        },
        {
          "output_type": "stream",
          "text": [
            "/usr/local/lib/python3.7/dist-packages/ipykernel_launcher.py:5: UserWarning: To copy construct from a tensor, it is recommended to use sourceTensor.clone().detach() or sourceTensor.clone().detach().requires_grad_(True), rather than torch.tensor(sourceTensor).\n",
            "  \"\"\"\n"
          ],
          "name": "stderr"
        },
        {
          "output_type": "stream",
          "text": [
            "Time for batch  0 / 125 =  3.073160171508789 , Loss  =  1.3049527406692505\n",
            "Time for batch  8 / 125 =  0.15868544578552246 , Loss  =  1.169211983680725\n",
            "Time for batch  16 / 125 =  0.09722161293029785 , Loss  =  0.967268705368042\n",
            "Time for batch  24 / 125 =  0.09937787055969238 , Loss  =  1.5989834070205688\n",
            "Time for batch  32 / 125 =  0.12376856803894043 , Loss  =  2.7655577659606934\n",
            "Time for batch  40 / 125 =  0.09622383117675781 , Loss  =  2.354743003845215\n",
            "Time for batch  48 / 125 =  0.11861610412597656 , Loss  =  0.6991866230964661\n",
            "Time for batch  56 / 125 =  1.037971019744873 , Loss  =  1.2823336124420166\n",
            "Time for batch  64 / 125 =  0.1892402172088623 , Loss  =  1.995361328125\n",
            "Time for batch  72 / 125 =  0.1401064395904541 , Loss  =  1.6197258234024048\n",
            "Time for batch  80 / 125 =  0.11295676231384277 , Loss  =  2.5804953575134277\n",
            "Time for batch  88 / 125 =  0.09307432174682617 , Loss  =  2.127650260925293\n",
            "Time for batch  96 / 125 =  0.09638404846191406 , Loss  =  1.275075912475586\n",
            "Time for batch  104 / 125 =  0.1069643497467041 , Loss  =  1.8359988927841187\n",
            "Time for batch  112 / 125 =  0.09319376945495605 , Loss  =  2.1028940677642822\n",
            "Time for batch  120 / 125 =  0.10523724555969238 , Loss  =  2.050346612930298\n"
          ],
          "name": "stdout"
        },
        {
          "output_type": "stream",
          "text": [
            "/usr/local/lib/python3.7/dist-packages/ipykernel_launcher.py:17: UserWarning: To copy construct from a tensor, it is recommended to use sourceTensor.clone().detach() or sourceTensor.clone().detach().requires_grad_(True), rather than torch.tensor(sourceTensor).\n"
          ],
          "name": "stderr"
        },
        {
          "output_type": "stream",
          "text": [
            "Epoch no  1   completed , Avg Loss =  1.6569861469268798  Accuracy =  45.4  TEST Accuracy  31.333333333333332\n",
            "Showing loss plot\n"
          ],
          "name": "stdout"
        },
        {
          "output_type": "display_data",
          "data": {
            "image/png": "[encoded data removed]",
            "text/plain": [
              "<Figure size 432x288 with 1 Axes>"
            ]
          },
          "metadata": {
            "tags": [],
            "needs_background": "light"
          }
        },
        {
          "output_type": "stream",
          "text": [
            "Showing accuracy plot\n"
          ],
          "name": "stdout"
        },
        {
          "output_type": "display_data",
          "data": {
            "image/png": "[encoded data removed]",
            "text/plain": [
              "<Figure size 432x288 with 1 Axes>"
            ]
          },
          "metadata": {
            "tags": [],
            "needs_background": "light"
          }
        },
        {
          "output_type": "stream",
          "text": [
            "/usr/local/lib/python3.7/dist-packages/ipykernel_launcher.py:5: UserWarning: To copy construct from a tensor, it is recommended to use sourceTensor.clone().detach() or sourceTensor.clone().detach().requires_grad_(True), rather than torch.tensor(sourceTensor).\n",
            "  \"\"\"\n"
          ],
          "name": "stderr"
        },
        {
          "output_type": "stream",
          "text": [
            "Time for batch  0 / 125 =  3.0224595069885254 , Loss  =  1.146906852722168\n",
            "Time for batch  8 / 125 =  0.10163402557373047 , Loss  =  0.655877947807312\n",
            "Time for batch  16 / 125 =  0.09857368469238281 , Loss  =  1.8831634521484375\n",
            "Time for batch  24 / 125 =  0.10318684577941895 , Loss  =  1.0553098917007446\n",
            "Time for batch  32 / 125 =  0.12054586410522461 , Loss  =  1.2207181453704834\n",
            "Time for batch  40 / 125 =  0.11931967735290527 , Loss  =  1.312900424003601\n",
            "Time for batch  48 / 125 =  0.16855263710021973 , Loss  =  1.2907277345657349\n",
            "Time for batch  56 / 125 =  0.1009831428527832 , Loss  =  1.6759319305419922\n",
            "Time for batch  64 / 125 =  0.09697580337524414 , Loss  =  0.908968448638916\n",
            "Time for batch  72 / 125 =  0.10098481178283691 , Loss  =  1.9359005689620972\n",
            "Time for batch  80 / 125 =  0.11088871955871582 , Loss  =  1.2016849517822266\n",
            "Time for batch  88 / 125 =  0.17900872230529785 , Loss  =  0.7228227853775024\n",
            "Time for batch  96 / 125 =  0.10591650009155273 , Loss  =  2.015839099884033\n",
            "Time for batch  104 / 125 =  0.09137964248657227 , Loss  =  1.1438298225402832\n",
            "Time for batch  112 / 125 =  0.1208946704864502 , Loss  =  0.34840506315231323\n",
            "Time for batch  120 / 125 =  0.11315774917602539 , Loss  =  0.9014236330986023\n"
          ],
          "name": "stdout"
        },
        {
          "output_type": "stream",
          "text": [
            "/usr/local/lib/python3.7/dist-packages/ipykernel_launcher.py:17: UserWarning: To copy construct from a tensor, it is recommended to use sourceTensor.clone().detach() or sourceTensor.clone().detach().requires_grad_(True), rather than torch.tensor(sourceTensor).\n"
          ],
          "name": "stderr"
        },
        {
          "output_type": "stream",
          "text": [
            "Epoch no  2   completed , Avg Loss =  1.1049965834617614  Accuracy =  62.8  TEST Accuracy  48.0\n",
            "Saving at weights now at step =  2\n",
            "\n",
            "Saving the latest model  as 'latest_2.pth'.\n",
            "\n",
            "Showing loss plot\n"
          ],
          "name": "stdout"
        },
        {
          "output_type": "display_data",
          "data": {
            "image/png": "[encoded data removed]",
            "text/plain": [
              "<Figure size 432x288 with 1 Axes>"
            ]
          },
          "metadata": {
            "tags": [],
            "needs_background": "light"
          }
        },
        {
          "output_type": "stream",
          "text": [
            "Showing accuracy plot\n"
          ],
          "name": "stdout"
        },
        {
          "output_type": "display_data",
          "data": {
            "image/png": "[encoded data removed]",
            "text/plain": [
              "<Figure size 432x288 with 1 Axes>"
            ]
          },
          "metadata": {
            "tags": [],
            "needs_background": "light"
          }
        },
        {
          "output_type": "stream",
          "text": [
            "/usr/local/lib/python3.7/dist-packages/ipykernel_launcher.py:5: UserWarning: To copy construct from a tensor, it is recommended to use sourceTensor.clone().detach() or sourceTensor.clone().detach().requires_grad_(True), rather than torch.tensor(sourceTensor).\n",
            "  \"\"\"\n"
          ],
          "name": "stderr"
        },
        {
          "output_type": "stream",
          "text": [
            "Time for batch  0 / 125 =  3.27933406829834 , Loss  =  0.7181382179260254\n",
            "Time for batch  8 / 125 =  0.09768819808959961 , Loss  =  0.43079572916030884\n",
            "Time for batch  16 / 125 =  0.11670064926147461 , Loss  =  0.10580268502235413\n",
            "Time for batch  24 / 125 =  0.09982156753540039 , Loss  =  0.7874305248260498\n",
            "Time for batch  32 / 125 =  0.09527373313903809 , Loss  =  0.9693036079406738\n",
            "Time for batch  40 / 125 =  0.10278892517089844 , Loss  =  0.9473670721054077\n",
            "Time for batch  48 / 125 =  0.10933065414428711 , Loss  =  0.6963209509849548\n",
            "Time for batch  56 / 125 =  0.12973999977111816 , Loss  =  0.8415376543998718\n",
            "Time for batch  64 / 125 =  0.10532879829406738 , Loss  =  1.0667376518249512\n",
            "Time for batch  72 / 125 =  0.09372591972351074 , Loss  =  0.5800143480300903\n",
            "Time for batch  80 / 125 =  0.10463476181030273 , Loss  =  0.27893880009651184\n",
            "Time for batch  88 / 125 =  0.11664128303527832 , Loss  =  0.8032733798027039\n",
            "Time for batch  96 / 125 =  0.10528802871704102 , Loss  =  0.2502460479736328\n",
            "Time for batch  104 / 125 =  0.11448860168457031 , Loss  =  0.1197187677025795\n",
            "Time for batch  112 / 125 =  0.09415626525878906 , Loss  =  0.39713215827941895\n",
            "Time for batch  120 / 125 =  0.11506366729736328 , Loss  =  0.7684733867645264\n"
          ],
          "name": "stdout"
        },
        {
          "output_type": "stream",
          "text": [
            "/usr/local/lib/python3.7/dist-packages/ipykernel_launcher.py:17: UserWarning: To copy construct from a tensor, it is recommended to use sourceTensor.clone().detach() or sourceTensor.clone().detach().requires_grad_(True), rather than torch.tensor(sourceTensor).\n"
          ],
          "name": "stderr"
        },
        {
          "output_type": "stream",
          "text": [
            "Epoch no  3   completed , Avg Loss =  0.5277517391443253  Accuracy =  83.8  TEST Accuracy  52.0\n",
            "Saving at weights now at step =  3\n",
            "\n",
            "Saving the latest model  as 'latest_3.pth'.\n",
            "\n",
            "Showing loss plot\n"
          ],
          "name": "stdout"
        },
        {
          "output_type": "display_data",
          "data": {
            "image/png": "[encoded data removed]",
            "text/plain": [
              "<Figure size 432x288 with 1 Axes>"
            ]
          },
          "metadata": {
            "tags": [],
            "needs_background": "light"
          }
        },
        {
          "output_type": "stream",
          "text": [
            "Showing accuracy plot\n"
          ],
          "name": "stdout"
        },
        {
          "output_type": "display_data",
          "data": {
            "image/png": "[encoded data removed]",
            "text/plain": [
              "<Figure size 432x288 with 1 Axes>"
            ]
          },
          "metadata": {
            "tags": [],
            "needs_background": "light"
          }
        },
        {
          "output_type": "stream",
          "text": [
            "/usr/local/lib/python3.7/dist-packages/ipykernel_launcher.py:5: UserWarning: To copy construct from a tensor, it is recommended to use sourceTensor.clone().detach() or sourceTensor.clone().detach().requires_grad_(True), rather than torch.tensor(sourceTensor).\n",
            "  \"\"\"\n"
          ],
          "name": "stderr"
        },
        {
          "output_type": "stream",
          "text": [
            "Time for batch  0 / 125 =  3.0835325717926025 , Loss  =  0.1583188772201538\n",
            "Time for batch  8 / 125 =  0.09711909294128418 , Loss  =  0.14752864837646484\n",
            "Time for batch  16 / 125 =  0.11011123657226562 , Loss  =  0.0747646614909172\n",
            "Time for batch  24 / 125 =  0.09985947608947754 , Loss  =  0.2526680827140808\n",
            "Time for batch  32 / 125 =  0.09639525413513184 , Loss  =  0.1618717908859253\n",
            "Time for batch  40 / 125 =  0.10206294059753418 , Loss  =  0.05923923850059509\n",
            "Time for batch  48 / 125 =  0.10824155807495117 , Loss  =  0.12087275087833405\n",
            "Time for batch  56 / 125 =  0.10010504722595215 , Loss  =  0.11191229522228241\n",
            "Time for batch  64 / 125 =  0.11535453796386719 , Loss  =  0.6517206430435181\n",
            "Time for batch  72 / 125 =  0.09944534301757812 , Loss  =  0.06730429083108902\n",
            "Time for batch  80 / 125 =  0.09864020347595215 , Loss  =  0.17329683899879456\n",
            "Time for batch  88 / 125 =  0.15322184562683105 , Loss  =  0.039351172745227814\n",
            "Time for batch  96 / 125 =  0.12860536575317383 , Loss  =  0.22374172508716583\n",
            "Time for batch  104 / 125 =  0.10657835006713867 , Loss  =  0.3389192521572113\n",
            "Time for batch  112 / 125 =  0.10939645767211914 , Loss  =  0.2979331612586975\n",
            "Time for batch  120 / 125 =  0.1167755126953125 , Loss  =  0.07352598011493683\n"
          ],
          "name": "stdout"
        },
        {
          "output_type": "stream",
          "text": [
            "/usr/local/lib/python3.7/dist-packages/ipykernel_launcher.py:17: UserWarning: To copy construct from a tensor, it is recommended to use sourceTensor.clone().detach() or sourceTensor.clone().detach().requires_grad_(True), rather than torch.tensor(sourceTensor).\n"
          ],
          "name": "stderr"
        },
        {
          "output_type": "stream",
          "text": [
            "Epoch no  4   completed , Avg Loss =  0.1910211194008589  Accuracy =  96.2  TEST Accuracy  52.666666666666664\n",
            "Saving at weights now at step =  4\n",
            "\n",
            "Saving the latest model  as 'latest_4.pth'.\n",
            "\n",
            "Showing loss plot\n"
          ],
          "name": "stdout"
        },
        {
          "output_type": "display_data",
          "data": {
            "image/png": "[encoded data removed]",
            "text/plain": [
              "<Figure size 432x288 with 1 Axes>"
            ]
          },
          "metadata": {
            "tags": [],
            "needs_background": "light"
          }
        },
        {
          "output_type": "stream",
          "text": [
            "Showing accuracy plot\n"
          ],
          "name": "stdout"
        },
        {
          "output_type": "display_data",
          "data": {
            "image/png": "[encoded data removed]",
            "text/plain": [
              "<Figure size 432x288 with 1 Axes>"
            ]
          },
          "metadata": {
            "tags": [],
            "needs_background": "light"
          }
        },
        {
          "output_type": "stream",
          "text": [
            "/usr/local/lib/python3.7/dist-packages/ipykernel_launcher.py:5: UserWarning: To copy construct from a tensor, it is recommended to use sourceTensor.clone().detach() or sourceTensor.clone().detach().requires_grad_(True), rather than torch.tensor(sourceTensor).\n",
            "  \"\"\"\n"
          ],
          "name": "stderr"
        },
        {
          "output_type": "stream",
          "text": [
            "Time for batch  0 / 125 =  3.181124687194824 , Loss  =  0.09361063688993454\n",
            "Time for batch  8 / 125 =  0.10636639595031738 , Loss  =  0.15548524260520935\n",
            "Time for batch  16 / 125 =  0.14588332176208496 , Loss  =  0.18560823798179626\n",
            "Time for batch  24 / 125 =  0.12146210670471191 , Loss  =  0.05198359861969948\n",
            "Time for batch  32 / 125 =  0.10670709609985352 , Loss  =  0.22309085726737976\n",
            "Time for batch  40 / 125 =  0.10687065124511719 , Loss  =  0.04486799240112305\n",
            "Time for batch  48 / 125 =  0.09638547897338867 , Loss  =  0.028113268315792084\n",
            "Time for batch  56 / 125 =  0.7486288547515869 , Loss  =  0.03967956826090813\n",
            "Time for batch  64 / 125 =  0.10199856758117676 , Loss  =  0.020480845123529434\n",
            "Time for batch  72 / 125 =  0.0965268611907959 , Loss  =  0.031140213832259178\n",
            "Time for batch  80 / 125 =  0.1745588779449463 , Loss  =  0.10281433910131454\n",
            "Time for batch  88 / 125 =  0.36276960372924805 , Loss  =  0.16710662841796875\n",
            "Time for batch  96 / 125 =  0.119476318359375 , Loss  =  0.044949281960725784\n",
            "Time for batch  104 / 125 =  0.11106419563293457 , Loss  =  0.0898883268237114\n",
            "Time for batch  112 / 125 =  0.11594271659851074 , Loss  =  0.011527820490300655\n",
            "Time for batch  120 / 125 =  0.10371613502502441 , Loss  =  0.3228074908256531\n"
          ],
          "name": "stdout"
        },
        {
          "output_type": "stream",
          "text": [
            "/usr/local/lib/python3.7/dist-packages/ipykernel_launcher.py:17: UserWarning: To copy construct from a tensor, it is recommended to use sourceTensor.clone().detach() or sourceTensor.clone().detach().requires_grad_(True), rather than torch.tensor(sourceTensor).\n"
          ],
          "name": "stderr"
        },
        {
          "output_type": "stream",
          "text": [
            "Epoch no  5   completed , Avg Loss =  0.08251728645339608  Accuracy =  98.8  TEST Accuracy  52.666666666666664\n",
            "Showing loss plot\n"
          ],
          "name": "stdout"
        },
        {
          "output_type": "display_data",
          "data": {
            "image/png": "[encoded data removed]",
            "text/plain": [
              "<Figure size 432x288 with 1 Axes>"
            ]
          },
          "metadata": {
            "tags": [],
            "needs_background": "light"
          }
        },
        {
          "output_type": "stream",
          "text": [
            "Showing accuracy plot\n"
          ],
          "name": "stdout"
        },
        {
          "output_type": "display_data",
          "data": {
            "image/png": "[encoded data removed]",
            "text/plain": [
              "<Figure size 432x288 with 1 Axes>"
            ]
          },
          "metadata": {
            "tags": [],
            "needs_background": "light"
          }
        },
        {
          "output_type": "stream",
          "text": [
            "/usr/local/lib/python3.7/dist-packages/ipykernel_launcher.py:5: UserWarning: To copy construct from a tensor, it is recommended to use sourceTensor.clone().detach() or sourceTensor.clone().detach().requires_grad_(True), rather than torch.tensor(sourceTensor).\n",
            "  \"\"\"\n"
          ],
          "name": "stderr"
        },
        {
          "output_type": "stream",
          "text": [
            "Time for batch  0 / 125 =  2.9823157787323 , Loss  =  0.009022579528391361\n",
            "Time for batch  8 / 125 =  0.09501457214355469 , Loss  =  0.023608291521668434\n",
            "Time for batch  16 / 125 =  0.10184741020202637 , Loss  =  0.2925466299057007\n",
            "Time for batch  24 / 125 =  0.12089967727661133 , Loss  =  0.03752947971224785\n",
            "Time for batch  32 / 125 =  0.0890047550201416 , Loss  =  0.06957073509693146\n",
            "Time for batch  40 / 125 =  1.226428747177124 , Loss  =  0.020534101873636246\n",
            "Time for batch  48 / 125 =  0.1254124641418457 , Loss  =  0.049255840480327606\n",
            "Time for batch  56 / 125 =  0.10879135131835938 , Loss  =  0.013612786307930946\n",
            "Time for batch  64 / 125 =  0.09875607490539551 , Loss  =  0.028165994212031364\n",
            "Time for batch  72 / 125 =  0.10474777221679688 , Loss  =  0.06578804552555084\n",
            "Time for batch  80 / 125 =  0.10702800750732422 , Loss  =  0.04216349869966507\n",
            "Time for batch  88 / 125 =  0.14736247062683105 , Loss  =  0.015071864239871502\n",
            "Time for batch  96 / 125 =  0.10497546195983887 , Loss  =  0.07192645967006683\n",
            "Time for batch  104 / 125 =  0.0967862606048584 , Loss  =  0.04975573346018791\n",
            "Time for batch  112 / 125 =  0.15935015678405762 , Loss  =  0.12841930985450745\n",
            "Time for batch  120 / 125 =  0.10425734519958496 , Loss  =  0.13878637552261353\n"
          ],
          "name": "stdout"
        },
        {
          "output_type": "stream",
          "text": [
            "/usr/local/lib/python3.7/dist-packages/ipykernel_launcher.py:17: UserWarning: To copy construct from a tensor, it is recommended to use sourceTensor.clone().detach() or sourceTensor.clone().detach().requires_grad_(True), rather than torch.tensor(sourceTensor).\n"
          ],
          "name": "stderr"
        },
        {
          "output_type": "stream",
          "text": [
            "Epoch no  6   completed , Avg Loss =  0.05057714800909162  Accuracy =  99.5  TEST Accuracy  49.333333333333336\n",
            "Showing loss plot\n"
          ],
          "name": "stdout"
        },
        {
          "output_type": "display_data",
          "data": {
            "image/png": "[encoded data removed]",
            "text/plain": [
              "<Figure size 432x288 with 1 Axes>"
            ]
          },
          "metadata": {
            "tags": [],
            "needs_background": "light"
          }
        },
        {
          "output_type": "stream",
          "text": [
            "Showing accuracy plot\n"
          ],
          "name": "stdout"
        },
        {
          "output_type": "display_data",
          "data": {
            "image/png": "[encoded data removed]",
            "text/plain": [
              "<Figure size 432x288 with 1 Axes>"
            ]
          },
          "metadata": {
            "tags": [],
            "needs_background": "light"
          }
        },
        {
          "output_type": "stream",
          "text": [
            "/usr/local/lib/python3.7/dist-packages/ipykernel_launcher.py:5: UserWarning: To copy construct from a tensor, it is recommended to use sourceTensor.clone().detach() or sourceTensor.clone().detach().requires_grad_(True), rather than torch.tensor(sourceTensor).\n",
            "  \"\"\"\n"
          ],
          "name": "stderr"
        },
        {
          "output_type": "stream",
          "text": [
            "Time for batch  0 / 125 =  2.977372646331787 , Loss  =  0.019937438890337944\n",
            "Time for batch  8 / 125 =  0.11837983131408691 , Loss  =  0.027853328734636307\n",
            "Time for batch  16 / 125 =  0.13460803031921387 , Loss  =  0.01636427827179432\n",
            "Time for batch  24 / 125 =  0.0986778736114502 , Loss  =  0.027096973732113838\n",
            "Time for batch  32 / 125 =  0.1011042594909668 , Loss  =  0.012838494032621384\n",
            "Time for batch  40 / 125 =  0.10190105438232422 , Loss  =  0.009511958807706833\n",
            "Time for batch  48 / 125 =  0.10393786430358887 , Loss  =  0.032612044364213943\n",
            "Time for batch  56 / 125 =  0.10083818435668945 , Loss  =  0.02005447819828987\n",
            "Time for batch  64 / 125 =  0.11991453170776367 , Loss  =  0.05224442854523659\n",
            "Time for batch  72 / 125 =  0.10109543800354004 , Loss  =  0.017344558611512184\n",
            "Time for batch  80 / 125 =  0.10237908363342285 , Loss  =  0.013238784857094288\n",
            "Time for batch  88 / 125 =  0.1601700782775879 , Loss  =  0.03363178297877312\n",
            "Time for batch  96 / 125 =  0.09841394424438477 , Loss  =  0.011994930915534496\n",
            "Time for batch  104 / 125 =  0.10678505897521973 , Loss  =  0.020394479855895042\n",
            "Time for batch  112 / 125 =  0.10748147964477539 , Loss  =  0.016206996515393257\n",
            "Time for batch  120 / 125 =  0.16268515586853027 , Loss  =  0.08850731700658798\n"
          ],
          "name": "stdout"
        },
        {
          "output_type": "stream",
          "text": [
            "/usr/local/lib/python3.7/dist-packages/ipykernel_launcher.py:17: UserWarning: To copy construct from a tensor, it is recommended to use sourceTensor.clone().detach() or sourceTensor.clone().detach().requires_grad_(True), rather than torch.tensor(sourceTensor).\n"
          ],
          "name": "stderr"
        },
        {
          "output_type": "stream",
          "text": [
            "Epoch no  7   completed , Avg Loss =  0.02523352388292551  Accuracy =  99.9  TEST Accuracy  54.666666666666664\n",
            "Saving at weights now at step =  7\n",
            "\n",
            "Saving the latest model  as 'latest_7.pth'.\n",
            "\n",
            "Showing loss plot\n"
          ],
          "name": "stdout"
        },
        {
          "output_type": "display_data",
          "data": {
            "image/png": "[encoded data removed]",
            "text/plain": [
              "<Figure size 432x288 with 1 Axes>"
            ]
          },
          "metadata": {
            "tags": [],
            "needs_background": "light"
          }
        },
        {
          "output_type": "stream",
          "text": [
            "Showing accuracy plot\n"
          ],
          "name": "stdout"
        },
        {
          "output_type": "display_data",
          "data": {
            "image/png": "[encoded data removed]",
            "text/plain": [
              "<Figure size 432x288 with 1 Axes>"
            ]
          },
          "metadata": {
            "tags": [],
            "needs_background": "light"
          }
        },
        {
          "output_type": "stream",
          "text": [
            "/usr/local/lib/python3.7/dist-packages/ipykernel_launcher.py:5: UserWarning: To copy construct from a tensor, it is recommended to use sourceTensor.clone().detach() or sourceTensor.clone().detach().requires_grad_(True), rather than torch.tensor(sourceTensor).\n",
            "  \"\"\"\n"
          ],
          "name": "stderr"
        },
        {
          "output_type": "stream",
          "text": [
            "Time for batch  0 / 125 =  3.051947593688965 , Loss  =  0.014533638022840023\n",
            "Time for batch  8 / 125 =  0.09674668312072754 , Loss  =  0.012762400321662426\n",
            "Time for batch  16 / 125 =  0.11024165153503418 , Loss  =  0.0049395207315683365\n",
            "Time for batch  24 / 125 =  0.0960378646850586 , Loss  =  0.004669331945478916\n",
            "Time for batch  32 / 125 =  0.09883332252502441 , Loss  =  0.014107510447502136\n",
            "Time for batch  40 / 125 =  0.12403035163879395 , Loss  =  0.005699416622519493\n",
            "Time for batch  48 / 125 =  0.1058506965637207 , Loss  =  0.004247757606208324\n",
            "Time for batch  56 / 125 =  0.1008141040802002 , Loss  =  0.005574927665293217\n",
            "Time for batch  64 / 125 =  0.09937882423400879 , Loss  =  0.008724586106836796\n",
            "Time for batch  72 / 125 =  0.11606192588806152 , Loss  =  0.013337156735360622\n",
            "Time for batch  80 / 125 =  0.14811992645263672 , Loss  =  0.007513984572142363\n",
            "Time for batch  88 / 125 =  0.09940576553344727 , Loss  =  0.0037144909147173166\n",
            "Time for batch  96 / 125 =  0.10791444778442383 , Loss  =  0.023402564227581024\n",
            "Time for batch  104 / 125 =  0.7336375713348389 , Loss  =  0.0034279259853065014\n",
            "Time for batch  112 / 125 =  0.7542629241943359 , Loss  =  0.005706979427486658\n",
            "Time for batch  120 / 125 =  0.10867667198181152 , Loss  =  0.048276159912347794\n"
          ],
          "name": "stdout"
        },
        {
          "output_type": "stream",
          "text": [
            "/usr/local/lib/python3.7/dist-packages/ipykernel_launcher.py:17: UserWarning: To copy construct from a tensor, it is recommended to use sourceTensor.clone().detach() or sourceTensor.clone().detach().requires_grad_(True), rather than torch.tensor(sourceTensor).\n"
          ],
          "name": "stderr"
        },
        {
          "output_type": "stream",
          "text": [
            "Epoch no  8   completed , Avg Loss =  0.0194926555454731  Accuracy =  100.0  TEST Accuracy  56.0\n",
            "Saving at weights now at step =  8\n",
            "\n",
            "Saving the latest model  as 'latest_8.pth'.\n",
            "\n",
            "Showing loss plot\n"
          ],
          "name": "stdout"
        },
        {
          "output_type": "display_data",
          "data": {
            "image/png": "[encoded data removed]",
            "text/plain": [
              "<Figure size 432x288 with 1 Axes>"
            ]
          },
          "metadata": {
            "tags": [],
            "needs_background": "light"
          }
        },
        {
          "output_type": "stream",
          "text": [
            "Showing accuracy plot\n"
          ],
          "name": "stdout"
        },
        {
          "output_type": "display_data",
          "data": {
            "image/png": "[encoded data removed]",
            "text/plain": [
              "<Figure size 432x288 with 1 Axes>"
            ]
          },
          "metadata": {
            "tags": [],
            "needs_background": "light"
          }
        },
        {
          "output_type": "stream",
          "text": [
            "/usr/local/lib/python3.7/dist-packages/ipykernel_launcher.py:5: UserWarning: To copy construct from a tensor, it is recommended to use sourceTensor.clone().detach() or sourceTensor.clone().detach().requires_grad_(True), rather than torch.tensor(sourceTensor).\n",
            "  \"\"\"\n"
          ],
          "name": "stderr"
        },
        {
          "output_type": "stream",
          "text": [
            "Time for batch  0 / 125 =  3.1083333492279053 , Loss  =  0.007934062741696835\n",
            "Time for batch  8 / 125 =  0.11003565788269043 , Loss  =  0.009311655536293983\n",
            "Time for batch  16 / 125 =  0.09799599647521973 , Loss  =  0.021333811804652214\n",
            "Time for batch  24 / 125 =  0.16186308860778809 , Loss  =  0.003946088720113039\n",
            "Time for batch  32 / 125 =  0.09658384323120117 , Loss  =  0.010819022543728352\n",
            "Time for batch  40 / 125 =  0.1212000846862793 , Loss  =  0.005337626673281193\n",
            "Time for batch  48 / 125 =  0.09608268737792969 , Loss  =  0.03186351805925369\n",
            "Time for batch  56 / 125 =  0.11293339729309082 , Loss  =  0.014528395608067513\n",
            "Time for batch  64 / 125 =  0.11451458930969238 , Loss  =  0.015312479808926582\n",
            "Time for batch  72 / 125 =  0.12797045707702637 , Loss  =  0.010208914056420326\n",
            "Time for batch  80 / 125 =  0.09673690795898438 , Loss  =  0.02982010506093502\n",
            "Time for batch  88 / 125 =  0.10556554794311523 , Loss  =  0.017624346539378166\n",
            "Time for batch  96 / 125 =  0.10347509384155273 , Loss  =  0.016057757660746574\n",
            "Time for batch  104 / 125 =  0.09852313995361328 , Loss  =  0.02602330967783928\n",
            "Time for batch  112 / 125 =  0.10643720626831055 , Loss  =  0.006844117306172848\n",
            "Time for batch  120 / 125 =  0.11162686347961426 , Loss  =  0.010506205260753632\n"
          ],
          "name": "stdout"
        },
        {
          "output_type": "stream",
          "text": [
            "/usr/local/lib/python3.7/dist-packages/ipykernel_launcher.py:17: UserWarning: To copy construct from a tensor, it is recommended to use sourceTensor.clone().detach() or sourceTensor.clone().detach().requires_grad_(True), rather than torch.tensor(sourceTensor).\n"
          ],
          "name": "stderr"
        },
        {
          "output_type": "stream",
          "text": [
            "Epoch no  9   completed , Avg Loss =  0.023387284619733693  Accuracy =  99.6  TEST Accuracy  50.666666666666664\n",
            "Showing loss plot\n"
          ],
          "name": "stdout"
        },
        {
          "output_type": "display_data",
          "data": {
            "image/png": "[encoded data removed]",
            "text/plain": [
              "<Figure size 432x288 with 1 Axes>"
            ]
          },
          "metadata": {
            "tags": [],
            "needs_background": "light"
          }
        },
        {
          "output_type": "stream",
          "text": [
            "Showing accuracy plot\n"
          ],
          "name": "stdout"
        },
        {
          "output_type": "display_data",
          "data": {
            "image/png": "[encoded data removed]",
            "text/plain": [
              "<Figure size 432x288 with 1 Axes>"
            ]
          },
          "metadata": {
            "tags": [],
            "needs_background": "light"
          }
        },
        {
          "output_type": "stream",
          "text": [
            "/usr/local/lib/python3.7/dist-packages/ipykernel_launcher.py:5: UserWarning: To copy construct from a tensor, it is recommended to use sourceTensor.clone().detach() or sourceTensor.clone().detach().requires_grad_(True), rather than torch.tensor(sourceTensor).\n",
            "  \"\"\"\n"
          ],
          "name": "stderr"
        },
        {
          "output_type": "stream",
          "text": [
            "Time for batch  0 / 125 =  2.953333616256714 , Loss  =  0.006341803353279829\n",
            "Time for batch  8 / 125 =  0.11372780799865723 , Loss  =  0.007599846925586462\n",
            "Time for batch  16 / 125 =  1.3750700950622559 , Loss  =  0.05951530113816261\n",
            "Time for batch  24 / 125 =  0.09874176979064941 , Loss  =  0.011005534790456295\n",
            "Time for batch  32 / 125 =  0.09590029716491699 , Loss  =  0.0030605753418058157\n",
            "Time for batch  40 / 125 =  0.11775565147399902 , Loss  =  0.01277703046798706\n",
            "Time for batch  48 / 125 =  0.1043555736541748 , Loss  =  0.011878909543156624\n",
            "Time for batch  56 / 125 =  0.10301542282104492 , Loss  =  0.020794421434402466\n",
            "Time for batch  64 / 125 =  0.11797046661376953 , Loss  =  0.0027119475416839123\n",
            "Time for batch  72 / 125 =  0.11547112464904785 , Loss  =  0.03042689710855484\n",
            "Time for batch  80 / 125 =  0.09782743453979492 , Loss  =  0.00867043063044548\n",
            "Time for batch  88 / 125 =  0.10431170463562012 , Loss  =  0.009057240560650826\n",
            "Time for batch  96 / 125 =  0.15314865112304688 , Loss  =  0.00940355472266674\n",
            "Time for batch  104 / 125 =  0.09547901153564453 , Loss  =  0.005082022398710251\n",
            "Time for batch  112 / 125 =  0.1273336410522461 , Loss  =  0.00935246143490076\n",
            "Time for batch  120 / 125 =  0.10093021392822266 , Loss  =  0.025536637753248215\n"
          ],
          "name": "stdout"
        },
        {
          "output_type": "stream",
          "text": [
            "/usr/local/lib/python3.7/dist-packages/ipykernel_launcher.py:17: UserWarning: To copy construct from a tensor, it is recommended to use sourceTensor.clone().detach() or sourceTensor.clone().detach().requires_grad_(True), rather than torch.tensor(sourceTensor).\n"
          ],
          "name": "stderr"
        },
        {
          "output_type": "stream",
          "text": [
            "Epoch no  10   completed , Avg Loss =  0.012470512129366397  Accuracy =  100.0  TEST Accuracy  54.0\n",
            "Showing loss plot\n"
          ],
          "name": "stdout"
        },
        {
          "output_type": "display_data",
          "data": {
            "image/png": "[encoded data removed]",
            "text/plain": [
              "<Figure size 432x288 with 1 Axes>"
            ]
          },
          "metadata": {
            "tags": [],
            "needs_background": "light"
          }
        },
        {
          "output_type": "stream",
          "text": [
            "Showing accuracy plot\n"
          ],
          "name": "stdout"
        },
        {
          "output_type": "display_data",
          "data": {
            "image/png": "[encoded data removed]",
            "text/plain": [
              "<Figure size 432x288 with 1 Axes>"
            ]
          },
          "metadata": {
            "tags": [],
            "needs_background": "light"
          }
        },
        {
          "output_type": "stream",
          "text": [
            "/usr/local/lib/python3.7/dist-packages/ipykernel_launcher.py:5: UserWarning: To copy construct from a tensor, it is recommended to use sourceTensor.clone().detach() or sourceTensor.clone().detach().requires_grad_(True), rather than torch.tensor(sourceTensor).\n",
            "  \"\"\"\n"
          ],
          "name": "stderr"
        },
        {
          "output_type": "stream",
          "text": [
            "Time for batch  0 / 125 =  2.9689059257507324 , Loss  =  0.005820815917104483\n",
            "Time for batch  8 / 125 =  0.10228347778320312 , Loss  =  0.01033819280564785\n",
            "Time for batch  16 / 125 =  0.11745476722717285 , Loss  =  0.0036614565178751945\n",
            "Time for batch  24 / 125 =  0.10509729385375977 , Loss  =  0.0017962075071409345\n",
            "Time for batch  32 / 125 =  0.10191226005554199 , Loss  =  0.008290721103549004\n",
            "Time for batch  40 / 125 =  0.10760664939880371 , Loss  =  0.007328169420361519\n",
            "Time for batch  48 / 125 =  0.10572409629821777 , Loss  =  0.005337598267942667\n",
            "Time for batch  56 / 125 =  1.022533655166626 , Loss  =  0.01252400316298008\n",
            "Time for batch  64 / 125 =  0.17683768272399902 , Loss  =  0.008993291296064854\n",
            "Time for batch  72 / 125 =  0.1104121208190918 , Loss  =  0.003174468409270048\n",
            "Time for batch  80 / 125 =  0.09482789039611816 , Loss  =  0.005435283295810223\n",
            "Time for batch  88 / 125 =  0.11344361305236816 , Loss  =  0.013504721224308014\n",
            "Time for batch  96 / 125 =  0.09851813316345215 , Loss  =  0.008241281844675541\n",
            "Time for batch  104 / 125 =  0.09534835815429688 , Loss  =  0.009984122589230537\n",
            "Time for batch  112 / 125 =  0.17517995834350586 , Loss  =  0.04691886901855469\n",
            "Time for batch  120 / 125 =  0.09703803062438965 , Loss  =  0.004329291172325611\n"
          ],
          "name": "stdout"
        },
        {
          "output_type": "stream",
          "text": [
            "/usr/local/lib/python3.7/dist-packages/ipykernel_launcher.py:17: UserWarning: To copy construct from a tensor, it is recommended to use sourceTensor.clone().detach() or sourceTensor.clone().detach().requires_grad_(True), rather than torch.tensor(sourceTensor).\n"
          ],
          "name": "stderr"
        },
        {
          "output_type": "stream",
          "text": [
            "Epoch no  11   completed , Avg Loss =  0.008190612873993815  Accuracy =  100.0  TEST Accuracy  53.333333333333336\n",
            "Showing loss plot\n"
          ],
          "name": "stdout"
        },
        {
          "output_type": "display_data",
          "data": {
            "image/png": "[encoded data removed]",
            "text/plain": [
              "<Figure size 432x288 with 1 Axes>"
            ]
          },
          "metadata": {
            "tags": [],
            "needs_background": "light"
          }
        },
        {
          "output_type": "stream",
          "text": [
            "Showing accuracy plot\n"
          ],
          "name": "stdout"
        },
        {
          "output_type": "display_data",
          "data": {
            "image/png": "[encoded data removed]",
            "text/plain": [
              "<Figure size 432x288 with 1 Axes>"
            ]
          },
          "metadata": {
            "tags": [],
            "needs_background": "light"
          }
        },
        {
          "output_type": "stream",
          "text": [
            "/usr/local/lib/python3.7/dist-packages/ipykernel_launcher.py:5: UserWarning: To copy construct from a tensor, it is recommended to use sourceTensor.clone().detach() or sourceTensor.clone().detach().requires_grad_(True), rather than torch.tensor(sourceTensor).\n",
            "  \"\"\"\n"
          ],
          "name": "stderr"
        },
        {
          "output_type": "stream",
          "text": [
            "Time for batch  0 / 125 =  2.9867324829101562 , Loss  =  0.0013656693045049906\n",
            "Time for batch  8 / 125 =  0.10637474060058594 , Loss  =  0.06278244405984879\n",
            "Time for batch  16 / 125 =  0.09890913963317871 , Loss  =  0.0029141742270439863\n",
            "Time for batch  24 / 125 =  0.09495115280151367 , Loss  =  0.005454318132251501\n",
            "Time for batch  32 / 125 =  0.0970916748046875 , Loss  =  0.015069669112563133\n",
            "Time for batch  40 / 125 =  0.10739922523498535 , Loss  =  0.002740721218287945\n",
            "Time for batch  48 / 125 =  0.0962529182434082 , Loss  =  0.016226734966039658\n",
            "Time for batch  56 / 125 =  0.11546492576599121 , Loss  =  0.0017053376650437713\n",
            "Time for batch  64 / 125 =  0.12628579139709473 , Loss  =  0.008747237734496593\n",
            "Time for batch  72 / 125 =  0.10539054870605469 , Loss  =  0.009547589346766472\n"
          ],
          "name": "stdout"
        },
        {
          "output_type": "error",
          "ename": "KeyboardInterrupt",
          "evalue": "ignored",
          "traceback": [
            "\u001b[0;31m---------------------------------------------------------------------------\u001b[0m",
            "\u001b[0;31mKeyboardInterrupt\u001b[0m                         Traceback (most recent call last)",
            "\u001b[0;32m<ipython-input-148-967d9573c878>\u001b[0m in \u001b[0;36m<module>\u001b[0;34m()\u001b[0m\n\u001b[1;32m     50\u001b[0m   \u001b[0mtot\u001b[0m \u001b[0;34m=\u001b[0m \u001b[0;36m0\u001b[0m\u001b[0;34m\u001b[0m\u001b[0;34m\u001b[0m\u001b[0m\n\u001b[1;32m     51\u001b[0m   \u001b[0mavg_loss\u001b[0m \u001b[0;34m=\u001b[0m \u001b[0;36m0\u001b[0m\u001b[0;34m\u001b[0m\u001b[0;34m\u001b[0m\u001b[0m\n\u001b[0;32m---> 52\u001b[0;31m   \u001b[0;32mfor\u001b[0m \u001b[0mi\u001b[0m\u001b[0;34m,\u001b[0m\u001b[0;34m(\u001b[0m\u001b[0mimages\u001b[0m\u001b[0;34m,\u001b[0m\u001b[0mtargets\u001b[0m\u001b[0;34m)\u001b[0m \u001b[0;32min\u001b[0m \u001b[0menumerate\u001b[0m\u001b[0;34m(\u001b[0m\u001b[0mdata_loader\u001b[0m\u001b[0;34m)\u001b[0m\u001b[0;34m:\u001b[0m\u001b[0;34m\u001b[0m\u001b[0;34m\u001b[0m\u001b[0m\n\u001b[0m\u001b[1;32m     53\u001b[0m     \u001b[0;32mif\u001b[0m \u001b[0mtorch\u001b[0m\u001b[0;34m.\u001b[0m\u001b[0mcuda\u001b[0m\u001b[0;34m.\u001b[0m\u001b[0mis_available\u001b[0m\u001b[0;34m(\u001b[0m\u001b[0;34m)\u001b[0m\u001b[0;34m:\u001b[0m\u001b[0;34m\u001b[0m\u001b[0;34m\u001b[0m\u001b[0m\n\u001b[1;32m     54\u001b[0m       \u001b[0mimages\u001b[0m \u001b[0;34m=\u001b[0m \u001b[0mimages\u001b[0m\u001b[0;34m.\u001b[0m\u001b[0mto\u001b[0m\u001b[0;34m(\u001b[0m\u001b[0mdevice\u001b[0m \u001b[0;34m=\u001b[0m \u001b[0mdevice\u001b[0m \u001b[0;34m,\u001b[0m \u001b[0mdtype\u001b[0m \u001b[0;34m=\u001b[0m \u001b[0mtorch\u001b[0m\u001b[0;34m.\u001b[0m\u001b[0mfloat\u001b[0m \u001b[0;34m)\u001b[0m\u001b[0;34m.\u001b[0m\u001b[0mcuda\u001b[0m\u001b[0;34m(\u001b[0m\u001b[0;34m)\u001b[0m\u001b[0;34m.\u001b[0m\u001b[0mdetach\u001b[0m\u001b[0;34m(\u001b[0m\u001b[0;34m)\u001b[0m\u001b[0;34m\u001b[0m\u001b[0;34m\u001b[0m\u001b[0m\n",
            "\u001b[0;32m/usr/local/lib/python3.7/dist-packages/torch/utils/data/dataloader.py\u001b[0m in \u001b[0;36m__next__\u001b[0;34m(self)\u001b[0m\n\u001b[1;32m    515\u001b[0m             \u001b[0;32mif\u001b[0m \u001b[0mself\u001b[0m\u001b[0;34m.\u001b[0m\u001b[0m_sampler_iter\u001b[0m \u001b[0;32mis\u001b[0m \u001b[0;32mNone\u001b[0m\u001b[0;34m:\u001b[0m\u001b[0;34m\u001b[0m\u001b[0;34m\u001b[0m\u001b[0m\n\u001b[1;32m    516\u001b[0m                 \u001b[0mself\u001b[0m\u001b[0;34m.\u001b[0m\u001b[0m_reset\u001b[0m\u001b[0;34m(\u001b[0m\u001b[0;34m)\u001b[0m\u001b[0;34m\u001b[0m\u001b[0;34m\u001b[0m\u001b[0m\n\u001b[0;32m--> 517\u001b[0;31m             \u001b[0mdata\u001b[0m \u001b[0;34m=\u001b[0m \u001b[0mself\u001b[0m\u001b[0;34m.\u001b[0m\u001b[0m_next_data\u001b[0m\u001b[0;34m(\u001b[0m\u001b[0;34m)\u001b[0m\u001b[0;34m\u001b[0m\u001b[0;34m\u001b[0m\u001b[0m\n\u001b[0m\u001b[1;32m    518\u001b[0m             \u001b[0mself\u001b[0m\u001b[0;34m.\u001b[0m\u001b[0m_num_yielded\u001b[0m \u001b[0;34m+=\u001b[0m \u001b[0;36m1\u001b[0m\u001b[0;34m\u001b[0m\u001b[0;34m\u001b[0m\u001b[0m\n\u001b[1;32m    519\u001b[0m             \u001b[0;32mif\u001b[0m \u001b[0mself\u001b[0m\u001b[0;34m.\u001b[0m\u001b[0m_dataset_kind\u001b[0m \u001b[0;34m==\u001b[0m \u001b[0m_DatasetKind\u001b[0m\u001b[0;34m.\u001b[0m\u001b[0mIterable\u001b[0m \u001b[0;32mand\u001b[0m\u001b[0;31m \u001b[0m\u001b[0;31m\\\u001b[0m\u001b[0;34m\u001b[0m\u001b[0;34m\u001b[0m\u001b[0m\n",
            "\u001b[0;32m/usr/local/lib/python3.7/dist-packages/torch/utils/data/dataloader.py\u001b[0m in \u001b[0;36m_next_data\u001b[0;34m(self)\u001b[0m\n\u001b[1;32m    555\u001b[0m     \u001b[0;32mdef\u001b[0m \u001b[0m_next_data\u001b[0m\u001b[0;34m(\u001b[0m\u001b[0mself\u001b[0m\u001b[0;34m)\u001b[0m\u001b[0;34m:\u001b[0m\u001b[0;34m\u001b[0m\u001b[0;34m\u001b[0m\u001b[0m\n\u001b[1;32m    556\u001b[0m         \u001b[0mindex\u001b[0m \u001b[0;34m=\u001b[0m \u001b[0mself\u001b[0m\u001b[0;34m.\u001b[0m\u001b[0m_next_index\u001b[0m\u001b[0;34m(\u001b[0m\u001b[0;34m)\u001b[0m  \u001b[0;31m# may raise StopIteration\u001b[0m\u001b[0;34m\u001b[0m\u001b[0;34m\u001b[0m\u001b[0m\n\u001b[0;32m--> 557\u001b[0;31m         \u001b[0mdata\u001b[0m \u001b[0;34m=\u001b[0m \u001b[0mself\u001b[0m\u001b[0;34m.\u001b[0m\u001b[0m_dataset_fetcher\u001b[0m\u001b[0;34m.\u001b[0m\u001b[0mfetch\u001b[0m\u001b[0;34m(\u001b[0m\u001b[0mindex\u001b[0m\u001b[0;34m)\u001b[0m  \u001b[0;31m# may raise StopIteration\u001b[0m\u001b[0;34m\u001b[0m\u001b[0;34m\u001b[0m\u001b[0m\n\u001b[0m\u001b[1;32m    558\u001b[0m         \u001b[0;32mif\u001b[0m \u001b[0mself\u001b[0m\u001b[0;34m.\u001b[0m\u001b[0m_pin_memory\u001b[0m\u001b[0;34m:\u001b[0m\u001b[0;34m\u001b[0m\u001b[0;34m\u001b[0m\u001b[0m\n\u001b[1;32m    559\u001b[0m             \u001b[0mdata\u001b[0m \u001b[0;34m=\u001b[0m \u001b[0m_utils\u001b[0m\u001b[0;34m.\u001b[0m\u001b[0mpin_memory\u001b[0m\u001b[0;34m.\u001b[0m\u001b[0mpin_memory\u001b[0m\u001b[0;34m(\u001b[0m\u001b[0mdata\u001b[0m\u001b[0;34m)\u001b[0m\u001b[0;34m\u001b[0m\u001b[0;34m\u001b[0m\u001b[0m\n",
            "\u001b[0;32m/usr/local/lib/python3.7/dist-packages/torch/utils/data/_utils/fetch.py\u001b[0m in \u001b[0;36mfetch\u001b[0;34m(self, possibly_batched_index)\u001b[0m\n\u001b[1;32m     42\u001b[0m     \u001b[0;32mdef\u001b[0m \u001b[0mfetch\u001b[0m\u001b[0;34m(\u001b[0m\u001b[0mself\u001b[0m\u001b[0;34m,\u001b[0m \u001b[0mpossibly_batched_index\u001b[0m\u001b[0;34m)\u001b[0m\u001b[0;34m:\u001b[0m\u001b[0;34m\u001b[0m\u001b[0;34m\u001b[0m\u001b[0m\n\u001b[1;32m     43\u001b[0m         \u001b[0;32mif\u001b[0m \u001b[0mself\u001b[0m\u001b[0;34m.\u001b[0m\u001b[0mauto_collation\u001b[0m\u001b[0;34m:\u001b[0m\u001b[0;34m\u001b[0m\u001b[0;34m\u001b[0m\u001b[0m\n\u001b[0;32m---> 44\u001b[0;31m             \u001b[0mdata\u001b[0m \u001b[0;34m=\u001b[0m \u001b[0;34m[\u001b[0m\u001b[0mself\u001b[0m\u001b[0;34m.\u001b[0m\u001b[0mdataset\u001b[0m\u001b[0;34m[\u001b[0m\u001b[0midx\u001b[0m\u001b[0;34m]\u001b[0m \u001b[0;32mfor\u001b[0m \u001b[0midx\u001b[0m \u001b[0;32min\u001b[0m \u001b[0mpossibly_batched_index\u001b[0m\u001b[0;34m]\u001b[0m\u001b[0;34m\u001b[0m\u001b[0;34m\u001b[0m\u001b[0m\n\u001b[0m\u001b[1;32m     45\u001b[0m         \u001b[0;32melse\u001b[0m\u001b[0;34m:\u001b[0m\u001b[0;34m\u001b[0m\u001b[0;34m\u001b[0m\u001b[0m\n\u001b[1;32m     46\u001b[0m             \u001b[0mdata\u001b[0m \u001b[0;34m=\u001b[0m \u001b[0mself\u001b[0m\u001b[0;34m.\u001b[0m\u001b[0mdataset\u001b[0m\u001b[0;34m[\u001b[0m\u001b[0mpossibly_batched_index\u001b[0m\u001b[0;34m]\u001b[0m\u001b[0;34m\u001b[0m\u001b[0;34m\u001b[0m\u001b[0m\n",
            "\u001b[0;32m/usr/local/lib/python3.7/dist-packages/torch/utils/data/_utils/fetch.py\u001b[0m in \u001b[0;36m<listcomp>\u001b[0;34m(.0)\u001b[0m\n\u001b[1;32m     42\u001b[0m     \u001b[0;32mdef\u001b[0m \u001b[0mfetch\u001b[0m\u001b[0;34m(\u001b[0m\u001b[0mself\u001b[0m\u001b[0;34m,\u001b[0m \u001b[0mpossibly_batched_index\u001b[0m\u001b[0;34m)\u001b[0m\u001b[0;34m:\u001b[0m\u001b[0;34m\u001b[0m\u001b[0;34m\u001b[0m\u001b[0m\n\u001b[1;32m     43\u001b[0m         \u001b[0;32mif\u001b[0m \u001b[0mself\u001b[0m\u001b[0;34m.\u001b[0m\u001b[0mauto_collation\u001b[0m\u001b[0;34m:\u001b[0m\u001b[0;34m\u001b[0m\u001b[0;34m\u001b[0m\u001b[0m\n\u001b[0;32m---> 44\u001b[0;31m             \u001b[0mdata\u001b[0m \u001b[0;34m=\u001b[0m \u001b[0;34m[\u001b[0m\u001b[0mself\u001b[0m\u001b[0;34m.\u001b[0m\u001b[0mdataset\u001b[0m\u001b[0;34m[\u001b[0m\u001b[0midx\u001b[0m\u001b[0;34m]\u001b[0m \u001b[0;32mfor\u001b[0m \u001b[0midx\u001b[0m \u001b[0;32min\u001b[0m \u001b[0mpossibly_batched_index\u001b[0m\u001b[0;34m]\u001b[0m\u001b[0;34m\u001b[0m\u001b[0;34m\u001b[0m\u001b[0m\n\u001b[0m\u001b[1;32m     45\u001b[0m         \u001b[0;32melse\u001b[0m\u001b[0;34m:\u001b[0m\u001b[0;34m\u001b[0m\u001b[0;34m\u001b[0m\u001b[0m\n\u001b[1;32m     46\u001b[0m             \u001b[0mdata\u001b[0m \u001b[0;34m=\u001b[0m \u001b[0mself\u001b[0m\u001b[0;34m.\u001b[0m\u001b[0mdataset\u001b[0m\u001b[0;34m[\u001b[0m\u001b[0mpossibly_batched_index\u001b[0m\u001b[0;34m]\u001b[0m\u001b[0;34m\u001b[0m\u001b[0;34m\u001b[0m\u001b[0m\n",
            "\u001b[0;32m<ipython-input-132-32fa544bb5dc>\u001b[0m in \u001b[0;36m__getitem__\u001b[0;34m(self, index)\u001b[0m\n\u001b[1;32m     20\u001b[0m     \u001b[0;32melse\u001b[0m\u001b[0;34m:\u001b[0m\u001b[0;34m\u001b[0m\u001b[0;34m\u001b[0m\u001b[0m\n\u001b[1;32m     21\u001b[0m \u001b[0;34m\u001b[0m\u001b[0m\n\u001b[0;32m---> 22\u001b[0;31m       \u001b[0mimage\u001b[0m \u001b[0;34m=\u001b[0m \u001b[0mcv2\u001b[0m\u001b[0;34m.\u001b[0m\u001b[0mimread\u001b[0m\u001b[0;34m(\u001b[0m\u001b[0mself\u001b[0m\u001b[0;34m.\u001b[0m\u001b[0mimage_path\u001b[0m\u001b[0;34m[\u001b[0m\u001b[0mindex\u001b[0m\u001b[0;34m]\u001b[0m\u001b[0;34m)\u001b[0m\u001b[0;34m\u001b[0m\u001b[0;34m\u001b[0m\u001b[0m\n\u001b[0m\u001b[1;32m     23\u001b[0m       \u001b[0mcateg\u001b[0m \u001b[0;34m=\u001b[0m \u001b[0mself\u001b[0m\u001b[0;34m.\u001b[0m\u001b[0mimage_path\u001b[0m\u001b[0;34m[\u001b[0m\u001b[0mindex\u001b[0m\u001b[0;34m]\u001b[0m\u001b[0;34m.\u001b[0m\u001b[0msplit\u001b[0m\u001b[0;34m(\u001b[0m\u001b[0;34m\"-\"\u001b[0m\u001b[0;34m)\u001b[0m\u001b[0;34m[\u001b[0m\u001b[0;34m-\u001b[0m\u001b[0;36m1\u001b[0m\u001b[0;34m]\u001b[0m\u001b[0;34m.\u001b[0m\u001b[0msplit\u001b[0m\u001b[0;34m(\u001b[0m\u001b[0;34m\".\"\u001b[0m\u001b[0;34m)\u001b[0m\u001b[0;34m[\u001b[0m\u001b[0;36m0\u001b[0m\u001b[0;34m]\u001b[0m\u001b[0;34m\u001b[0m\u001b[0;34m\u001b[0m\u001b[0m\n\u001b[1;32m     24\u001b[0m       \u001b[0my\u001b[0m \u001b[0;34m=\u001b[0m \u001b[0mself\u001b[0m\u001b[0;34m.\u001b[0m\u001b[0mcfg\u001b[0m\u001b[0;34m.\u001b[0m\u001b[0mlabel_to_id\u001b[0m\u001b[0;34m[\u001b[0m\u001b[0mcateg\u001b[0m\u001b[0;34m]\u001b[0m\u001b[0;34m\u001b[0m\u001b[0;34m\u001b[0m\u001b[0m\n",
            "\u001b[0;31mKeyboardInterrupt\u001b[0m: "
          ]
        }
      ]
    },
    {
      "cell_type": "markdown",
      "metadata": {
        "id": "W3HqMH8GCNd4"
      },
      "source": [
        "TEST FOR BATCH"
      ]
    },
    {
      "cell_type": "code",
      "metadata": {
        "colab": {
          "base_uri": "https://localhost:8080/"
        },
        "id": "OUghS1oJbSDM",
        "outputId": "c755d401-43a2-4fdd-efd9-20eefdf5540f"
      },
      "source": [
        "torch.autograd.set_detect_anomaly(True)\n",
        "net1 = My_Classifier().to(device)\n",
        "cfg1 = set_config()\n",
        "cfg1.mode = \"test\" \n",
        "cfg1.batch_size = 10\n",
        "\n",
        "###### Load weights  \n",
        "\n",
        "wtemp = glob.glob(\"/content/drive/MyDrive/project_Abhigyan/weights/latest*\")\n",
        "if torch.cuda.is_available():\n",
        "      net_state_dict = torch.load(wtemp[0])\n",
        "else:\n",
        "      net_state_dict = torch.load(wtemp[0], map_location='cpu')\n",
        "\n",
        "net1.load_state_dict(net_state_dict)\n",
        "net1.eval()\n",
        "\n",
        "\n",
        "dataset1 = vis_cat_dataloader( cfg1 )\n",
        "data_loader1= DataLoader(dataset1,cfg1.batch_size,collate_fn= test_collate)\n",
        "\n",
        "step = 0\n",
        "L = nn.CrossEntropyLoss()\n",
        "\n",
        "correct = 0\n",
        "tot = 0\n",
        "avg_loss = 0\n",
        "for i,(images,targets) in enumerate(data_loader1):\n",
        "  if torch.cuda.is_available():\n",
        "    images= images.to(device = device , dtype = torch.float ).cuda().detach()\n",
        "    targets = targets.to(device = device , dtype = torch.long  ).cuda().detach()\n",
        "  else:\n",
        "    images = images.to(device = device , dtype = torch.float  ).detach()\n",
        "    targets = targets.to(device = device , dtype = torch.long).detach()\n",
        "  ######## Obtain Prediction by passing from model\n",
        "\n",
        "  pred = net1(images)\n",
        "\n",
        "  ######## Compute cross entrop loss\n",
        "  loss =  L( pred , targets )\n",
        "  avg_loss+= loss.item()\n",
        "\n",
        "\n",
        " ########  Counting no. of correct classifications\n",
        "  _, predicted = pred.max(1)\n",
        "  t11 = targets.size(0)\n",
        "  tot+=t11\n",
        "  t12 =  predicted.eq(targets).sum().item()\n",
        "  correct += t12\n",
        "\n",
        "  print(\"Test batch \" , i , \"/\", len(data_loader1) , \" Correct = \" , t12 , \" Total = \", t11 , \" ,  Loss  = \" , loss.item() )\n",
        "  \n",
        "avg_loss/=len(data_loader1)\n",
        "accuracy =  100.*correct/tot\n",
        "\n",
        "print(\" Avg Loss = \" , avg_loss ,  \" Accuracy = \" , accuracy )\n",
        " \n"
      ],
      "execution_count": 12,
      "outputs": [
        {
          "output_type": "stream",
          "text": [
            "/usr/local/lib/python3.7/dist-packages/ipykernel_launcher.py:17: UserWarning: To copy construct from a tensor, it is recommended to use sourceTensor.clone().detach() or sourceTensor.clone().detach().requires_grad_(True), rather than torch.tensor(sourceTensor).\n"
          ],
          "name": "stderr"
        },
        {
          "output_type": "stream",
          "text": [
            "Test batch  0 / 15  Correct =  2  Total =  10  ,  Loss  =  2.750926971435547\n",
            "Test batch  1 / 15  Correct =  4  Total =  10  ,  Loss  =  1.0590659379959106\n",
            "Test batch  2 / 15  Correct =  8  Total =  10  ,  Loss  =  1.1116572618484497\n",
            "Test batch  3 / 15  Correct =  3  Total =  10  ,  Loss  =  2.4794301986694336\n",
            "Test batch  4 / 15  Correct =  7  Total =  10  ,  Loss  =  1.2313709259033203\n",
            "Test batch  5 / 15  Correct =  5  Total =  10  ,  Loss  =  2.2066407203674316\n",
            "Test batch  6 / 15  Correct =  4  Total =  10  ,  Loss  =  2.4615867137908936\n",
            "Test batch  7 / 15  Correct =  4  Total =  10  ,  Loss  =  2.503526210784912\n",
            "Test batch  8 / 15  Correct =  5  Total =  10  ,  Loss  =  1.705134630203247\n",
            "Test batch  9 / 15  Correct =  9  Total =  10  ,  Loss  =  0.6419198513031006\n",
            "Test batch  10 / 15  Correct =  4  Total =  10  ,  Loss  =  1.8037159442901611\n",
            "Test batch  11 / 15  Correct =  7  Total =  10  ,  Loss  =  1.3918657302856445\n",
            "Test batch  12 / 15  Correct =  9  Total =  10  ,  Loss  =  0.372300386428833\n",
            "Test batch  13 / 15  Correct =  6  Total =  10  ,  Loss  =  1.3517725467681885\n",
            "Test batch  14 / 15  Correct =  7  Total =  10  ,  Loss  =  1.4304149150848389\n",
            " Avg Loss =  1.6334219296773276  Accuracy =  56.0\n"
          ],
          "name": "stdout"
        }
      ]
    },
    {
      "cell_type": "code",
      "metadata": {
        "id": "BmKLHLalM9Vs"
      },
      "source": [
        ""
      ],
      "execution_count": null,
      "outputs": []
    }
  ]
}